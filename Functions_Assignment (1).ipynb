{
  "nbformat": 4,
  "nbformat_minor": 0,
  "metadata": {
    "colab": {
      "provenance": []
    },
    "kernelspec": {
      "name": "python3",
      "display_name": "Python 3"
    },
    "language_info": {
      "name": "python"
    }
  },
  "cells": [
    {
      "cell_type": "markdown",
      "source": [
        "Question 1.   What is the difference between a function and a method in Python?\n",
        "\n",
        "Ans:  In Python, both functions and methods are callable objects that perform specific tasks, but they differ in their context and behavior.\n",
        "\n",
        "Function-  \n",
        "\n",
        "\n",
        "*   A function is defined using the def keyword, independently of any class.\n",
        "*   Called directly by name (e.g., function_name()).\n",
        "\n",
        "\n",
        "*   Functions take the arguments passed during their call.\n",
        "*   Example:-  \n",
        "\n",
        "\n",
        "\n",
        "\n",
        "\n",
        "\n",
        "\n"
      ],
      "metadata": {
        "id": "C5h3RbnzcI1M"
      }
    },
    {
      "cell_type": "code",
      "source": [
        "def calc_sum(a,b):\n",
        "  return a+b\n",
        "\n",
        "calc_sum(12,6)"
      ],
      "metadata": {
        "colab": {
          "base_uri": "https://localhost:8080/"
        },
        "id": "2OS6Y3LKdp9a",
        "outputId": "2da7887d-3c4f-47ae-a22f-c58bc8410533"
      },
      "execution_count": null,
      "outputs": [
        {
          "output_type": "execute_result",
          "data": {
            "text/plain": [
              "18"
            ]
          },
          "metadata": {},
          "execution_count": 2
        }
      ]
    },
    {
      "cell_type": "markdown",
      "source": [
        "Method-\n",
        "\n",
        "\n",
        "*   A method is a function that is defined inside a class and is associated with an object.\n",
        "*   Called on an object or class (e.g., object.method_name()).\n",
        "\n",
        "\n",
        "*   Instance methods automatically take self (the instance) as the first parameter.\n",
        "*   Example:-\n",
        "\n",
        "\n"
      ],
      "metadata": {
        "id": "Ce_FYt_xeU1D"
      }
    },
    {
      "cell_type": "code",
      "source": [
        "class calculator:\n",
        "  def add(self, a, b):\n",
        "    return a+b\n",
        "\n",
        "calc = calculator()\n",
        "calc.add(12,34)\n"
      ],
      "metadata": {
        "colab": {
          "base_uri": "https://localhost:8080/"
        },
        "id": "i9Tsl1NTfKmC",
        "outputId": "4a59f999-77e6-4129-932a-80f970e41cb8"
      },
      "execution_count": null,
      "outputs": [
        {
          "output_type": "execute_result",
          "data": {
            "text/plain": [
              "46"
            ]
          },
          "metadata": {},
          "execution_count": 3
        }
      ]
    },
    {
      "cell_type": "markdown",
      "source": [
        "Question 2.  Explain the concept of function arguments and parameters in Python.\n",
        "\n",
        "Ans:  In Python, parameters and arguments are terms used to describe the data that is passed to functions, but they are used in different contexts:\n",
        "\n",
        "1. Parameters:\n",
        "\n",
        "Definition:-  \n",
        " These are the variables listed in a function's definition. They act as placeholders for the values that the function expects to receive when it is called.\n",
        "\n",
        "Location:-   \n",
        "Inside the parentheses of the function definition.\n",
        "\n",
        "Example:-"
      ],
      "metadata": {
        "id": "jgeaHkQ9k7ke"
      }
    },
    {
      "cell_type": "code",
      "source": [
        "def sum_num(a,b,c):  #here a,b,c are the parameters\n",
        "  return a+b+c\n",
        "\n",
        "sum_num(12,3,23)"
      ],
      "metadata": {
        "colab": {
          "base_uri": "https://localhost:8080/"
        },
        "id": "kPX7Jt7BmUYO",
        "outputId": "b4735539-2bdc-4182-b905-969d3023ebe6"
      },
      "execution_count": null,
      "outputs": [
        {
          "output_type": "execute_result",
          "data": {
            "text/plain": [
              "38"
            ]
          },
          "metadata": {},
          "execution_count": 4
        }
      ]
    },
    {
      "cell_type": "markdown",
      "source": [
        "  2.  Arguments:\n",
        "\n",
        "Definition: These are the actual values or data passed to the function when it is called.\n",
        "\n",
        "Location: Inside the parentheses during a function call.\n",
        "\n",
        "Example:-\n"
      ],
      "metadata": {
        "id": "ZlK4oXfnnDrM"
      }
    },
    {
      "cell_type": "code",
      "source": [
        "def sum_num(a,b,c):\n",
        "  return a+b+c\n",
        "\n",
        "sum_num(12,3,23) #here 12,3,23 are the arguments"
      ],
      "metadata": {
        "colab": {
          "base_uri": "https://localhost:8080/"
        },
        "id": "-pb-ahYEndrA",
        "outputId": "bbd1e3b5-1e28-4f61-db81-96b5e8411989"
      },
      "execution_count": null,
      "outputs": [
        {
          "output_type": "execute_result",
          "data": {
            "text/plain": [
              "38"
            ]
          },
          "metadata": {},
          "execution_count": 5
        }
      ]
    },
    {
      "cell_type": "markdown",
      "source": [
        "Question 3.  What are the different ways to define and call a function in Python?\n",
        "\n",
        "Ans:   In Python, functions can be defined and called in several ways to handle different scenarios and requirements. Below is a comprehensive guide to defining and calling functions:\n",
        "\n",
        "1. Defining a Simple Function\n",
        "\n",
        "A basic function is defined using the def keyword, followed by a name, parentheses, and a colon.\n",
        "\n",
        "Example:"
      ],
      "metadata": {
        "id": "vHT__CNeoEWj"
      }
    },
    {
      "cell_type": "code",
      "source": [
        "def greet():\n",
        "  print(\"welcom to the wolrd of python\")\n",
        "\n",
        "greet()"
      ],
      "metadata": {
        "colab": {
          "base_uri": "https://localhost:8080/"
        },
        "id": "FwvrxMMdpf9h",
        "outputId": "70dc83bd-bbb8-435b-ff76-ab0faf28702d"
      },
      "execution_count": null,
      "outputs": [
        {
          "output_type": "stream",
          "name": "stdout",
          "text": [
            "welcom to the wolrd of python\n"
          ]
        }
      ]
    },
    {
      "cell_type": "markdown",
      "source": [
        "2.   Function with Parameters\n",
        "\n",
        "Functions can take parameters to make them dynamic.\n",
        "\n",
        "Example:"
      ],
      "metadata": {
        "id": "kjrlxP5_qBU6"
      }
    },
    {
      "cell_type": "code",
      "source": [
        "def greet(name):\n",
        "  print(\"welcome to  the world of python\", name)\n",
        "\n",
        "greet(\"rahul\")"
      ],
      "metadata": {
        "colab": {
          "base_uri": "https://localhost:8080/"
        },
        "id": "7gXTRma6qdw5",
        "outputId": "d7b555c6-3c48-42b2-c094-ead77a5ce83f"
      },
      "execution_count": null,
      "outputs": [
        {
          "output_type": "stream",
          "name": "stdout",
          "text": [
            "welcome to  the world of python rahul\n"
          ]
        }
      ]
    },
    {
      "cell_type": "markdown",
      "source": [
        "3. Function with Return Value\n",
        "\n",
        "A function can return a value using the return keyword.\n",
        "\n",
        "Example:"
      ],
      "metadata": {
        "id": "YxZY0qQiq4UA"
      }
    },
    {
      "cell_type": "code",
      "source": [
        "def product(a,b):\n",
        "  return a*b\n",
        "\n",
        "product(12,7)"
      ],
      "metadata": {
        "colab": {
          "base_uri": "https://localhost:8080/"
        },
        "id": "1X6GWk3WrCCX",
        "outputId": "a00691aa-2f04-48db-aa50-4bfa116605e5"
      },
      "execution_count": null,
      "outputs": [
        {
          "output_type": "execute_result",
          "data": {
            "text/plain": [
              "84"
            ]
          },
          "metadata": {},
          "execution_count": 13
        }
      ]
    },
    {
      "cell_type": "markdown",
      "source": [
        "4.  Functions with Default Parameters\n",
        "\n",
        "You can define default values for parameters, which will be used if no argument is provided.\n",
        "\n",
        "Example:"
      ],
      "metadata": {
        "id": "eYoa9lPTravH"
      }
    },
    {
      "cell_type": "code",
      "source": [
        "def greet(name = \"rahul\"):\n",
        "  print(\"welcom to the world of python\",name)\n",
        "\n",
        "greet()"
      ],
      "metadata": {
        "colab": {
          "base_uri": "https://localhost:8080/"
        },
        "id": "utHZQ9GzrlS2",
        "outputId": "04923e65-1088-466c-eff2-f882ffc4d7c7"
      },
      "execution_count": null,
      "outputs": [
        {
          "output_type": "stream",
          "name": "stdout",
          "text": [
            "welcom to the world of python rahul\n"
          ]
        }
      ]
    },
    {
      "cell_type": "markdown",
      "source": [
        "5.  Positional Arguments (*args):\n",
        "\n",
        "Used to pass multiple positional arguments as a tuple.\n",
        "\n",
        "Example:"
      ],
      "metadata": {
        "id": "MxCj-TH0sEpO"
      }
    },
    {
      "cell_type": "code",
      "source": [
        "def add(*args):\n",
        "  return sum(args)\n",
        "\n",
        "add(1,3,5,34,5,6)"
      ],
      "metadata": {
        "colab": {
          "base_uri": "https://localhost:8080/"
        },
        "id": "EoIk7fslsTRH",
        "outputId": "e0eaaa93-61c6-49ec-e278-c91af8222265"
      },
      "execution_count": null,
      "outputs": [
        {
          "output_type": "execute_result",
          "data": {
            "text/plain": [
              "54"
            ]
          },
          "metadata": {},
          "execution_count": 17
        }
      ]
    },
    {
      "cell_type": "markdown",
      "source": [
        "6.  Keyword Arguments (**kwargs):\n",
        "\n",
        "Used to pass multiple keyword arguments as a dictionary.\n",
        "\n",
        "Example:"
      ],
      "metadata": {
        "id": "8yagCcZ1s0FA"
      }
    },
    {
      "cell_type": "code",
      "source": [
        "def key_pair(**kwargs):\n",
        "    for key, value in kwargs.items():\n",
        "        print(f\"{key}: {value}\")\n",
        "\n",
        "key_pair(name=\"rahul\",grade=\"A\",subject=\"python\")\n"
      ],
      "metadata": {
        "colab": {
          "base_uri": "https://localhost:8080/"
        },
        "id": "RFjlZEP8s_mN",
        "outputId": "7ceb0dd8-64fb-43e5-ebd7-191d3a71468b"
      },
      "execution_count": null,
      "outputs": [
        {
          "output_type": "stream",
          "name": "stdout",
          "text": [
            "name: rahul\n",
            "grade: A\n",
            "subject: python\n"
          ]
        }
      ]
    },
    {
      "cell_type": "markdown",
      "source": [
        "Question 4.   What is the purpose of the `return` statement in a Python function?\n",
        "\n",
        "Ans:  The return statement in a Python function serves several purposes:\n",
        "\n",
        "1. To Send a Value Back to the Caller\n",
        "\n",
        "When a function executes a return statement, it terminates the function and sends the specified value back to the code that called the function.\n",
        "\n",
        " For example:"
      ],
      "metadata": {
        "id": "QhUGfCj5No0z"
      }
    },
    {
      "cell_type": "code",
      "source": [
        "def product(a,b):\n",
        "  return a*b\n",
        "\n",
        "product(9,23)"
      ],
      "metadata": {
        "colab": {
          "base_uri": "https://localhost:8080/"
        },
        "id": "pwXQEhATOyFo",
        "outputId": "35c1f8ef-b2eb-450d-9b5a-cc3a6fd10a9c"
      },
      "execution_count": null,
      "outputs": [
        {
          "output_type": "execute_result",
          "data": {
            "text/plain": [
              "207"
            ]
          },
          "metadata": {},
          "execution_count": 1
        }
      ]
    },
    {
      "cell_type": "markdown",
      "source": [
        "2. To Terminate the Function\n",
        "\n",
        "When the return statement is executed, the function exits immediately, regardless of whether there is remaining code in the function.\n",
        "\n",
        "For example:"
      ],
      "metadata": {
        "id": "uAIvVrphPUZ3"
      }
    },
    {
      "cell_type": "code",
      "source": [
        "def example():\n",
        "    print(\"This will be printed\")\n",
        "    return\n",
        "    print(\"This will NOT be printed\")\n",
        "\n",
        "example()"
      ],
      "metadata": {
        "colab": {
          "base_uri": "https://localhost:8080/"
        },
        "id": "YObxLjjTPhJu",
        "outputId": "b49d94d7-fcf7-46e8-b793-dd4506402418"
      },
      "execution_count": null,
      "outputs": [
        {
          "output_type": "stream",
          "name": "stdout",
          "text": [
            "This will be printed\n"
          ]
        }
      ]
    },
    {
      "cell_type": "markdown",
      "source": [
        "3. To Return Multiple Values\n",
        "\n",
        "A return statement can return multiple values as a tuple, allowing for easy unpacking.\n",
        "\n",
        "For example:"
      ],
      "metadata": {
        "id": "xbEIGhXJSwmX"
      }
    },
    {
      "cell_type": "code",
      "source": [
        "def get_coordinates():\n",
        "    return 10, 20\n",
        "\n",
        "get_coordinates()\n",
        "\n"
      ],
      "metadata": {
        "colab": {
          "base_uri": "https://localhost:8080/"
        },
        "id": "n9DjZztMTHwV",
        "outputId": "99ae4ad2-8164-48e3-952a-b16f7e7c025c"
      },
      "execution_count": null,
      "outputs": [
        {
          "output_type": "execute_result",
          "data": {
            "text/plain": [
              "(10, 20)"
            ]
          },
          "metadata": {},
          "execution_count": 3
        }
      ]
    },
    {
      "cell_type": "markdown",
      "source": [
        " Question 5.  What are iterators in Python and how do they differ from iterables?\n",
        "\n",
        " Ans:  In Python, iterators and iterables are related but distinct concepts used for working with sequences of data. Here's a detailed explaination:\n",
        "\n",
        "Iterator:-\n",
        "\n",
        "An iterator is an object that represents a stream of data and can be used to fetch items one at a time. It is created from an iterable by calling the iter() function.\n",
        "\n",
        "Key characteristics of iterators:\n",
        "\n",
        "1.   They implement two methods:\n",
        "\n",
        "     __iter__() (to make them iterable themselves)\n",
        "\n",
        "     __next__() (to fetch the next item in the sequence).\n",
        "\n",
        "2.  They do not store the entire sequence in memory; instead, they produce items one at a time, making them memory-efficient.\n",
        "\n",
        "Example:"
      ],
      "metadata": {
        "id": "r3m9d1G-Ti2O"
      }
    },
    {
      "cell_type": "code",
      "source": [
        "my_list = [1, 2, 3]\n",
        "iterator = iter(my_list)\n",
        "next(iterator)\n"
      ],
      "metadata": {
        "colab": {
          "base_uri": "https://localhost:8080/"
        },
        "id": "p-On_1-UaIXC",
        "outputId": "79146964-d03b-4ca4-bddc-1e52bf91563a"
      },
      "execution_count": null,
      "outputs": [
        {
          "output_type": "execute_result",
          "data": {
            "text/plain": [
              "1"
            ]
          },
          "metadata": {},
          "execution_count": 10
        }
      ]
    },
    {
      "cell_type": "markdown",
      "source": [
        "6. Explain the concept of generators in Python and how they are defined.\n",
        "\n",
        "Ans:   A generator is a special type of iterable in Python that allows you to generate items lazily, one at a time, using the yield statement. Generators are a powerful tool for creating iterators without having to write complex classes and methods manually.\n",
        "\n",
        "Key Characteristics of Generators\n",
        "\n",
        "1. Lazy Evaluation: Generators produce items only when requested, which makes them memory-efficient, especially for large datasets.\n",
        "\n",
        "2. Single Iteration: Generators can be iterated over only once. They do not store their content, so after iteration, they are exhausted.\n",
        "\n",
        "3. Use of yield: Instead of return, generators use the yield statement to produce values one at a time.\n",
        "\n",
        "4. Simplified Syntax: Generators simplify iterator creation, as Python handles much of the boilerplate code.\n",
        "\n",
        "How to Define Generators:-\n",
        "\n",
        "1. Using Generator Functions\n",
        "\n",
        "A generator function is defined like a regular function but uses the yield statement to produce values.\n",
        "\n",
        "2. Using Generator Expressions\n",
        "\n",
        "Generator expressions are a concise way to create generators, similar to list comprehensions but with parentheses instead of square brackets."
      ],
      "metadata": {
        "id": "m6bFZKI4brcE"
      }
    },
    {
      "cell_type": "markdown",
      "source": [
        "Question7.  What are the advantages of using generators over regular functions?\n",
        "\n",
        "Ans:  Generators offer several advantages over regular functions, especially when working with large datasets or streams of data. Here's a breakdown of the key benefits:\n",
        "\n",
        "1. Memory Efficiency\n",
        "\n",
        "   Generators produce values on demand (lazy evaluation), meaning they do not store all elements in memory.\n",
        "\n",
        "   Regular Functions often return collections like lists, which store all their elements in memory at once, potentially leading to high memory usage."
      ],
      "metadata": {
        "id": "Gq3PbjqzdntY"
      }
    },
    {
      "cell_type": "code",
      "source": [
        "# Regular function using a list\n",
        "def get_numbers_list(n):\n",
        "    return [i for i in range(n)]\n",
        "\n",
        "# Generator function\n",
        "def get_numbers_gen(n):\n",
        "    for i in range(n):\n",
        "        yield i"
      ],
      "metadata": {
        "id": "6jzDX2l8eqx1"
      },
      "execution_count": null,
      "outputs": []
    },
    {
      "cell_type": "markdown",
      "source": [
        "2. Lazy Evaluation\n",
        "\n",
        "  Generators compute and yield values one at a time only when requested, allowing you to work with infinite or large sequences efficiently.\n",
        "\n",
        "  Regular functions compute all values upfront, which can be slow and memory-intensive."
      ],
      "metadata": {
        "id": "ZH1DyVJRfXS0"
      }
    },
    {
      "cell_type": "markdown",
      "source": [
        " Question8.  What is a lambda function in Python and when is it typically used?\n",
        "\n",
        " Ans:  A lambda function is a small, anonymous function in Python that is defined using the lambda keyword. Unlike regular functions defined with def, a lambda function can only consist of a single expression, which is evaluated and returned automatically.\n",
        "\n",
        "The general syntax for a lambda function is:"
      ],
      "metadata": {
        "id": "VE5cdIZTgoTR"
      }
    },
    {
      "cell_type": "code",
      "source": [
        "lambda arguments: expression\n"
      ],
      "metadata": {
        "id": "Dj2Q4LvhhIWa"
      },
      "execution_count": null,
      "outputs": []
    },
    {
      "cell_type": "markdown",
      "source": [
        "\n",
        "When to Use Lambda Functions:-\n",
        "\n",
        "1. Short and Simple Functions: When the function logic is simple and will be used only once or for a brief period.\n",
        "\n",
        "2. Higher-Order Functions: Often used as arguments to functions like map(), filter(), and sorted().\n",
        "\n",
        "3. Inline Usage: When defining a full def function would be unnecessary or overkill for a small operation."
      ],
      "metadata": {
        "id": "lcaeulIxhSrp"
      }
    },
    {
      "cell_type": "markdown",
      "source": [
        " Question9.  Explain the purpose and usage of the `map()` function in Python.\n",
        "\n",
        " Ans:  The map() function in Python is used to apply a given function to each item of an iterable (e.g., a list, tuple, or string) and returns an iterator of the results. It’s a built-in function that simplifies the process of transforming data in collections.\n",
        "\n",
        " Syntax"
      ],
      "metadata": {
        "id": "sMAhR-3-iToJ"
      }
    },
    {
      "cell_type": "code",
      "source": [
        "map(function, iterable, *iterables)"
      ],
      "metadata": {
        "id": "01jn0jNtjQWp"
      },
      "execution_count": null,
      "outputs": []
    },
    {
      "cell_type": "markdown",
      "source": [
        "Examples of Using map()\n",
        "\n",
        "1. Applying a Function to a Single Iterable"
      ],
      "metadata": {
        "id": "RgxulBdIjUFN"
      }
    },
    {
      "cell_type": "code",
      "source": [
        "numbers = [1, 2, 3, 4]\n",
        "squared = map(lambda x: x ** 2, numbers)\n",
        "print(list(squared))"
      ],
      "metadata": {
        "colab": {
          "base_uri": "https://localhost:8080/"
        },
        "id": "tQ65W5twjncI",
        "outputId": "d6e65464-889b-475b-b95f-df120cf611a4"
      },
      "execution_count": null,
      "outputs": [
        {
          "output_type": "stream",
          "name": "stdout",
          "text": [
            "[1, 4, 9, 16]\n"
          ]
        }
      ]
    },
    {
      "cell_type": "markdown",
      "source": [
        "2. Using a Regular Function"
      ],
      "metadata": {
        "id": "0hu4vr6Yj5Dv"
      }
    },
    {
      "cell_type": "code",
      "source": [
        "def to_uppercase(s):\n",
        "    return s.upper()\n",
        "\n",
        "strings = ['hello', 'world']\n",
        "uppercased = map(to_uppercase, strings)\n",
        "print(list(uppercased))\n"
      ],
      "metadata": {
        "colab": {
          "base_uri": "https://localhost:8080/"
        },
        "id": "Zk2cKtQPj8QN",
        "outputId": "c790a171-8a83-4334-edcd-fcdeac0d2add"
      },
      "execution_count": null,
      "outputs": [
        {
          "output_type": "stream",
          "name": "stdout",
          "text": [
            "['HELLO', 'WORLD']\n"
          ]
        }
      ]
    },
    {
      "cell_type": "markdown",
      "source": [
        "3. Using Multiple Iterables\n",
        "\n",
        "When multiple iterables are passed, the function should take that many arguments."
      ],
      "metadata": {
        "id": "sJGqcw63kP7O"
      }
    },
    {
      "cell_type": "code",
      "source": [
        "list1 = [1, 2, 3]\n",
        "list2 = [4, 5, 6]\n",
        "summed = map(lambda x, y: x + y, list1, list2)\n",
        "print(list(summed))"
      ],
      "metadata": {
        "colab": {
          "base_uri": "https://localhost:8080/"
        },
        "id": "y8TiY-9MkVZc",
        "outputId": "e618068b-5d1a-47e6-f7cf-9db9ecbaa6bc"
      },
      "execution_count": null,
      "outputs": [
        {
          "output_type": "stream",
          "name": "stdout",
          "text": [
            "[5, 7, 9]\n"
          ]
        }
      ]
    },
    {
      "cell_type": "markdown",
      "source": [
        "Question10.   What is the difference between `map()`, `reduce()`, and `filter()` functions in Python?\n",
        "\n",
        "Ans:   The map(), reduce(), and filter() functions in Python are built-in tools for processing iterables, often used in functional programming. Here's a detailed comparison of their purposes, differences, and use cases:\n",
        "\n",
        "1. map():-\n",
        "\n",
        "Purpose:\n",
        "\n",
        "The map() function applies a given function to each element of an iterable (or iterables) and returns an iterator containing the results.\n",
        "\n",
        "Syntax:"
      ],
      "metadata": {
        "id": "wE2hoCY_knhm"
      }
    },
    {
      "cell_type": "code",
      "source": [
        "map(function, iterable, *iterables)\n"
      ],
      "metadata": {
        "id": "2aJIq3LtlyE2"
      },
      "execution_count": null,
      "outputs": []
    },
    {
      "cell_type": "markdown",
      "source": [
        "Example:"
      ],
      "metadata": {
        "id": "KGoidYfol1cs"
      }
    },
    {
      "cell_type": "code",
      "source": [
        "numbers = [1, 2, 3, 4]\n",
        "doubled = map(lambda x: x * 2, numbers)\n",
        "print(list(doubled))"
      ],
      "metadata": {
        "colab": {
          "base_uri": "https://localhost:8080/"
        },
        "id": "fruJjdztl5uz",
        "outputId": "c10bbade-7825-4110-cca8-8cb858b626db"
      },
      "execution_count": null,
      "outputs": [
        {
          "output_type": "stream",
          "name": "stdout",
          "text": [
            "[2, 4, 6, 8]\n"
          ]
        }
      ]
    },
    {
      "cell_type": "markdown",
      "source": [
        "2. filter()\n",
        "\n",
        "Purpose:\n",
        "\n",
        "The filter() function filters elements of an iterable based on a given function that returns True or False.\n",
        "\n",
        "Syntax:"
      ],
      "metadata": {
        "id": "cDkqe94mmF0E"
      }
    },
    {
      "cell_type": "code",
      "source": [
        "filter(function, iterable)"
      ],
      "metadata": {
        "id": "XIeInS8imPw8"
      },
      "execution_count": null,
      "outputs": []
    },
    {
      "cell_type": "markdown",
      "source": [
        "Example:"
      ],
      "metadata": {
        "id": "3eEq_wHTmT0U"
      }
    },
    {
      "cell_type": "code",
      "source": [
        "numbers = [1, 2, 3, 4, 5, 6]\n",
        "even_numbers = filter(lambda x: x % 2 == 0, numbers)\n",
        "print(list(even_numbers))\n"
      ],
      "metadata": {
        "colab": {
          "base_uri": "https://localhost:8080/"
        },
        "id": "UfAdaxYWmX7U",
        "outputId": "309efdb4-75ce-4feb-c2d0-b0f310816c1a"
      },
      "execution_count": null,
      "outputs": [
        {
          "output_type": "stream",
          "name": "stdout",
          "text": [
            "[2, 4, 6]\n"
          ]
        }
      ]
    },
    {
      "cell_type": "markdown",
      "source": [
        "3. reduce()\n",
        "\n",
        "Purpose:\n",
        "\n",
        "The reduce() function applies a function cumulatively to the items of an iterable, reducing the iterable to a single value.\n",
        "\n",
        "Syntax:"
      ],
      "metadata": {
        "id": "4ExMAUfamoYr"
      }
    },
    {
      "cell_type": "code",
      "source": [
        "from functools import reduce\n",
        "reduce(function, iterable, initializer=None)\n"
      ],
      "metadata": {
        "id": "hMsCnvCZms8j"
      },
      "execution_count": null,
      "outputs": []
    },
    {
      "cell_type": "markdown",
      "source": [
        "Example:"
      ],
      "metadata": {
        "id": "sQ11HjrFm1Vz"
      }
    },
    {
      "cell_type": "code",
      "source": [
        "from functools import reduce\n",
        "\n",
        "numbers = [1, 2, 3, 4]\n",
        "summed = reduce(lambda x, y: x + y, numbers)\n",
        "print(summed)\n"
      ],
      "metadata": {
        "id": "kW2Ck1oUm3yc"
      },
      "execution_count": null,
      "outputs": []
    },
    {
      "cell_type": "markdown",
      "source": [
        " Question 11.  Using pen & Paper write the internal mechanism for sum operation using  reduce function on this given\n",
        "list:[47,11,42,13].\n",
        "\n",
        "Ans:  \n"
      ],
      "metadata": {
        "id": "7gTwFTszVid-"
      }
    },
    {
      "cell_type": "code",
      "source": [
        "from google.colab import files\n",
        "uploaded = files.upload()"
      ],
      "metadata": {
        "colab": {
          "base_uri": "https://localhost:8080/",
          "height": 73
        },
        "id": "Cn8v5UWBaXHw",
        "outputId": "ed35352c-31bc-4135-86b6-0a2cada30365"
      },
      "execution_count": 3,
      "outputs": [
        {
          "output_type": "display_data",
          "data": {
            "text/plain": [
              "<IPython.core.display.HTML object>"
            ],
            "text/html": [
              "\n",
              "     <input type=\"file\" id=\"files-b7f865f5-f882-4ae6-b829-625675ca1a12\" name=\"files[]\" multiple disabled\n",
              "        style=\"border:none\" />\n",
              "     <output id=\"result-b7f865f5-f882-4ae6-b829-625675ca1a12\">\n",
              "      Upload widget is only available when the cell has been executed in the\n",
              "      current browser session. Please rerun this cell to enable.\n",
              "      </output>\n",
              "      <script>// Copyright 2017 Google LLC\n",
              "//\n",
              "// Licensed under the Apache License, Version 2.0 (the \"License\");\n",
              "// you may not use this file except in compliance with the License.\n",
              "// You may obtain a copy of the License at\n",
              "//\n",
              "//      http://www.apache.org/licenses/LICENSE-2.0\n",
              "//\n",
              "// Unless required by applicable law or agreed to in writing, software\n",
              "// distributed under the License is distributed on an \"AS IS\" BASIS,\n",
              "// WITHOUT WARRANTIES OR CONDITIONS OF ANY KIND, either express or implied.\n",
              "// See the License for the specific language governing permissions and\n",
              "// limitations under the License.\n",
              "\n",
              "/**\n",
              " * @fileoverview Helpers for google.colab Python module.\n",
              " */\n",
              "(function(scope) {\n",
              "function span(text, styleAttributes = {}) {\n",
              "  const element = document.createElement('span');\n",
              "  element.textContent = text;\n",
              "  for (const key of Object.keys(styleAttributes)) {\n",
              "    element.style[key] = styleAttributes[key];\n",
              "  }\n",
              "  return element;\n",
              "}\n",
              "\n",
              "// Max number of bytes which will be uploaded at a time.\n",
              "const MAX_PAYLOAD_SIZE = 100 * 1024;\n",
              "\n",
              "function _uploadFiles(inputId, outputId) {\n",
              "  const steps = uploadFilesStep(inputId, outputId);\n",
              "  const outputElement = document.getElementById(outputId);\n",
              "  // Cache steps on the outputElement to make it available for the next call\n",
              "  // to uploadFilesContinue from Python.\n",
              "  outputElement.steps = steps;\n",
              "\n",
              "  return _uploadFilesContinue(outputId);\n",
              "}\n",
              "\n",
              "// This is roughly an async generator (not supported in the browser yet),\n",
              "// where there are multiple asynchronous steps and the Python side is going\n",
              "// to poll for completion of each step.\n",
              "// This uses a Promise to block the python side on completion of each step,\n",
              "// then passes the result of the previous step as the input to the next step.\n",
              "function _uploadFilesContinue(outputId) {\n",
              "  const outputElement = document.getElementById(outputId);\n",
              "  const steps = outputElement.steps;\n",
              "\n",
              "  const next = steps.next(outputElement.lastPromiseValue);\n",
              "  return Promise.resolve(next.value.promise).then((value) => {\n",
              "    // Cache the last promise value to make it available to the next\n",
              "    // step of the generator.\n",
              "    outputElement.lastPromiseValue = value;\n",
              "    return next.value.response;\n",
              "  });\n",
              "}\n",
              "\n",
              "/**\n",
              " * Generator function which is called between each async step of the upload\n",
              " * process.\n",
              " * @param {string} inputId Element ID of the input file picker element.\n",
              " * @param {string} outputId Element ID of the output display.\n",
              " * @return {!Iterable<!Object>} Iterable of next steps.\n",
              " */\n",
              "function* uploadFilesStep(inputId, outputId) {\n",
              "  const inputElement = document.getElementById(inputId);\n",
              "  inputElement.disabled = false;\n",
              "\n",
              "  const outputElement = document.getElementById(outputId);\n",
              "  outputElement.innerHTML = '';\n",
              "\n",
              "  const pickedPromise = new Promise((resolve) => {\n",
              "    inputElement.addEventListener('change', (e) => {\n",
              "      resolve(e.target.files);\n",
              "    });\n",
              "  });\n",
              "\n",
              "  const cancel = document.createElement('button');\n",
              "  inputElement.parentElement.appendChild(cancel);\n",
              "  cancel.textContent = 'Cancel upload';\n",
              "  const cancelPromise = new Promise((resolve) => {\n",
              "    cancel.onclick = () => {\n",
              "      resolve(null);\n",
              "    };\n",
              "  });\n",
              "\n",
              "  // Wait for the user to pick the files.\n",
              "  const files = yield {\n",
              "    promise: Promise.race([pickedPromise, cancelPromise]),\n",
              "    response: {\n",
              "      action: 'starting',\n",
              "    }\n",
              "  };\n",
              "\n",
              "  cancel.remove();\n",
              "\n",
              "  // Disable the input element since further picks are not allowed.\n",
              "  inputElement.disabled = true;\n",
              "\n",
              "  if (!files) {\n",
              "    return {\n",
              "      response: {\n",
              "        action: 'complete',\n",
              "      }\n",
              "    };\n",
              "  }\n",
              "\n",
              "  for (const file of files) {\n",
              "    const li = document.createElement('li');\n",
              "    li.append(span(file.name, {fontWeight: 'bold'}));\n",
              "    li.append(span(\n",
              "        `(${file.type || 'n/a'}) - ${file.size} bytes, ` +\n",
              "        `last modified: ${\n",
              "            file.lastModifiedDate ? file.lastModifiedDate.toLocaleDateString() :\n",
              "                                    'n/a'} - `));\n",
              "    const percent = span('0% done');\n",
              "    li.appendChild(percent);\n",
              "\n",
              "    outputElement.appendChild(li);\n",
              "\n",
              "    const fileDataPromise = new Promise((resolve) => {\n",
              "      const reader = new FileReader();\n",
              "      reader.onload = (e) => {\n",
              "        resolve(e.target.result);\n",
              "      };\n",
              "      reader.readAsArrayBuffer(file);\n",
              "    });\n",
              "    // Wait for the data to be ready.\n",
              "    let fileData = yield {\n",
              "      promise: fileDataPromise,\n",
              "      response: {\n",
              "        action: 'continue',\n",
              "      }\n",
              "    };\n",
              "\n",
              "    // Use a chunked sending to avoid message size limits. See b/62115660.\n",
              "    let position = 0;\n",
              "    do {\n",
              "      const length = Math.min(fileData.byteLength - position, MAX_PAYLOAD_SIZE);\n",
              "      const chunk = new Uint8Array(fileData, position, length);\n",
              "      position += length;\n",
              "\n",
              "      const base64 = btoa(String.fromCharCode.apply(null, chunk));\n",
              "      yield {\n",
              "        response: {\n",
              "          action: 'append',\n",
              "          file: file.name,\n",
              "          data: base64,\n",
              "        },\n",
              "      };\n",
              "\n",
              "      let percentDone = fileData.byteLength === 0 ?\n",
              "          100 :\n",
              "          Math.round((position / fileData.byteLength) * 100);\n",
              "      percent.textContent = `${percentDone}% done`;\n",
              "\n",
              "    } while (position < fileData.byteLength);\n",
              "  }\n",
              "\n",
              "  // All done.\n",
              "  yield {\n",
              "    response: {\n",
              "      action: 'complete',\n",
              "    }\n",
              "  };\n",
              "}\n",
              "\n",
              "scope.google = scope.google || {};\n",
              "scope.google.colab = scope.google.colab || {};\n",
              "scope.google.colab._files = {\n",
              "  _uploadFiles,\n",
              "  _uploadFilesContinue,\n",
              "};\n",
              "})(self);\n",
              "</script> "
            ]
          },
          "metadata": {}
        },
        {
          "output_type": "stream",
          "name": "stdout",
          "text": [
            "Saving Function image.pdf to Function image (1).pdf\n"
          ]
        }
      ]
    }
  ]
}