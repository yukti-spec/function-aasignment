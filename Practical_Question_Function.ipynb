{
  "nbformat": 4,
  "nbformat_minor": 0,
  "metadata": {
    "colab": {
      "provenance": []
    },
    "kernelspec": {
      "name": "python3",
      "display_name": "Python 3"
    },
    "language_info": {
      "name": "python"
    }
  },
  "cells": [
    {
      "cell_type": "markdown",
      "source": [
        "Question 1.  Write a Python function that takes a list of numbers as input and returns the sum of all even numbers in\n",
        "the list."
      ],
      "metadata": {
        "id": "op3ZoxaFbtxE"
      }
    },
    {
      "cell_type": "code",
      "source": [
        "def sum_even(list):\n",
        "  n = []\n",
        "  for i in list:\n",
        "    if i %2 == 0:\n",
        "      n.append(i)\n",
        "  return sum(n)\n",
        "\n",
        "sum_even([1,89,54,98,45,24])"
      ],
      "metadata": {
        "colab": {
          "base_uri": "https://localhost:8080/"
        },
        "id": "PvHdgeNxf5WH",
        "outputId": "828b56b3-db6b-4a53-c6c8-2e73be1abc90"
      },
      "execution_count": null,
      "outputs": [
        {
          "output_type": "execute_result",
          "data": {
            "text/plain": [
              "176"
            ]
          },
          "metadata": {},
          "execution_count": 26
        }
      ]
    },
    {
      "cell_type": "markdown",
      "source": [
        "Quesstion2.  Create a Python function that accepts a string and returns the reverse of that string.\n",
        "\n",
        "Ans:"
      ],
      "metadata": {
        "id": "GWP-ZpxjlfcK"
      }
    },
    {
      "cell_type": "code",
      "source": [
        "def reverse_string(s):\n",
        "    \"\"\"\n",
        "    Returns the reverse of the input string.\n",
        "\n",
        "    :param s: Input string.\n",
        "    :return: Reversed string.\n",
        "    \"\"\"\n",
        "    return s[::-1]\n",
        "\n",
        "reverse_string(\"i am writing a code\")"
      ],
      "metadata": {
        "colab": {
          "base_uri": "https://localhost:8080/",
          "height": 36
        },
        "id": "gyfWRL_Cvj2w",
        "outputId": "98d3b2f9-5e0e-4df3-c8b6-4ba1c60d1d73"
      },
      "execution_count": null,
      "outputs": [
        {
          "output_type": "execute_result",
          "data": {
            "text/plain": [
              "'edoc a gnitirw ma i'"
            ],
            "application/vnd.google.colaboratory.intrinsic+json": {
              "type": "string"
            }
          },
          "metadata": {},
          "execution_count": 43
        }
      ]
    },
    {
      "cell_type": "markdown",
      "source": [
        "Question 3.  Implement a Python function that takes a list of integers and returns a new list containing the squares of\n",
        "each number."
      ],
      "metadata": {
        "id": "Bh4DvH0ZwIJg"
      }
    },
    {
      "cell_type": "code",
      "source": [
        "def square(list):\n",
        "  n = []\n",
        "  for i in list:\n",
        "    n.append(i**2)\n",
        "  print(n)\n",
        "\n",
        "square([2,5,78,34])\n"
      ],
      "metadata": {
        "colab": {
          "base_uri": "https://localhost:8080/"
        },
        "id": "r3Ki0TaZwQ2t",
        "outputId": "b9db6ceb-e360-47db-9efd-cbb3d6232331"
      },
      "execution_count": null,
      "outputs": [
        {
          "output_type": "stream",
          "name": "stdout",
          "text": [
            "[4, 25, 6084, 1156]\n"
          ]
        }
      ]
    },
    {
      "cell_type": "markdown",
      "source": [
        "Quastion 4.  Write a Python function that checks if a given number is prime or not from 1 to 200.\n",
        "\n",
        "Ans:"
      ],
      "metadata": {
        "id": "_qREr8oexFCm"
      }
    },
    {
      "cell_type": "code",
      "source": [
        "def is_prime(number):\n",
        "    \"\"\"\n",
        "    Checks if a given number is prime.\n",
        "\n",
        "    :param number: The number to check.\n",
        "    :return: True if the number is prime, False otherwise.\n",
        "    \"\"\"\n",
        "    if number <= 1:\n",
        "        return False\n",
        "    for i in range(2, int(number ** 0.5) + 1):\n",
        "        if number % i == 0:\n",
        "            return False\n",
        "    return True\n",
        "\n",
        "def primes_from_1_to_200():\n",
        "    \"\"\"\n",
        "    Finds and returns all prime numbers between 1 and 200.\n",
        "\n",
        "    :return: List of prime numbers between 1 and 200.\n",
        "    \"\"\"\n",
        "    primes = []\n",
        "    for num in range(1, 201):\n",
        "        if is_prime(num):\n",
        "            primes.append(num)\n",
        "    return primes\n",
        "\n",
        "\n",
        "prime_numbers = primes_from_1_to_200()\n",
        "print(\"Prime numbers between 1 and 200 are:\")\n",
        "print(prime_numbers)\n"
      ],
      "metadata": {
        "colab": {
          "base_uri": "https://localhost:8080/"
        },
        "id": "vHco6UH03p2_",
        "outputId": "e5c1c694-cc50-4921-9323-7b57e4afcc50"
      },
      "execution_count": null,
      "outputs": [
        {
          "output_type": "stream",
          "name": "stdout",
          "text": [
            "Prime numbers between 1 and 200 are:\n",
            "[2, 3, 5, 7, 11, 13, 17, 19, 23, 29, 31, 37, 41, 43, 47, 53, 59, 61, 67, 71, 73, 79, 83, 89, 97, 101, 103, 107, 109, 113, 127, 131, 137, 139, 149, 151, 157, 163, 167, 173, 179, 181, 191, 193, 197, 199]\n"
          ]
        }
      ]
    },
    {
      "cell_type": "markdown",
      "source": [
        " Question 5.  Create an iterator class in Python that generates the Fibonacci sequence up to a specified number of\n",
        "terms.\n"
      ],
      "metadata": {
        "id": "K-MkIiln4MpM"
      }
    },
    {
      "cell_type": "code",
      "source": [
        "class FibonacciIterator:\n",
        "    def __init__(self, num_terms):\n",
        "        self.num_terms = num_terms\n",
        "        self.current = 0\n",
        "        self.next = 1\n",
        "        self.index = 0\n",
        "\n",
        "    def __iter__(self):\n",
        "        return self\n",
        "\n",
        "    def __next__(self):\n",
        "        if self.index >= self.num_terms:\n",
        "            raise StopIteration\n",
        "        if self.index == 0:\n",
        "            self.index += 1\n",
        "            return 0\n",
        "        elif self.index == 1:\n",
        "            self.index += 1\n",
        "            return 1\n",
        "        else:\n",
        "            fib_value = self.current + self.next\n",
        "            self.current, self.next = self.next, fib_value\n",
        "            self.index += 1\n",
        "            return fib_value\n",
        "\n",
        "fib_iterator = FibonacciIterator(10)\n",
        "for num in fib_iterator:\n",
        "    print(num)\n"
      ],
      "metadata": {
        "id": "Ppt2rYUf4U-4",
        "colab": {
          "base_uri": "https://localhost:8080/"
        },
        "outputId": "ace7d4a8-c722-40af-d0af-66adfe232d7c"
      },
      "execution_count": 1,
      "outputs": [
        {
          "output_type": "stream",
          "name": "stdout",
          "text": [
            "0\n",
            "1\n",
            "1\n",
            "2\n",
            "3\n",
            "5\n",
            "8\n",
            "13\n",
            "21\n",
            "34\n"
          ]
        }
      ]
    },
    {
      "cell_type": "markdown",
      "source": [
        " Question 6.  Write a generator function in Python that yields the powers of 2 up to a given exponent.\n",
        "\n",
        " Ans:   "
      ],
      "metadata": {
        "id": "1PS7VUTHZ9Vd"
      }
    },
    {
      "cell_type": "code",
      "source": [
        "def powers_of_two(max_exponent):\n",
        "    for exponent in range(max_exponent + 1):\n",
        "        yield 2 ** exponent\n",
        "\n",
        "for power in powers_of_two(10):\n",
        "    print(power)"
      ],
      "metadata": {
        "colab": {
          "base_uri": "https://localhost:8080/"
        },
        "id": "XQjIMttVaagl",
        "outputId": "d9c247d6-5489-4f70-ec85-fde676281ee7"
      },
      "execution_count": 2,
      "outputs": [
        {
          "output_type": "stream",
          "name": "stdout",
          "text": [
            "1\n",
            "2\n",
            "4\n",
            "8\n",
            "16\n",
            "32\n",
            "64\n",
            "128\n",
            "256\n",
            "512\n",
            "1024\n"
          ]
        }
      ]
    },
    {
      "cell_type": "markdown",
      "source": [
        " Question 7.   Implement a generator function that reads a file line by line and yields each line as a string.\n",
        "\n",
        " Ans:  "
      ],
      "metadata": {
        "id": "S3ut9TMgasUU"
      }
    },
    {
      "cell_type": "code",
      "source": [
        "def read_file_line_by_line(file_path):\n",
        "    try:\n",
        "        with open(file_path, 'r') as file:\n",
        "            for line in file:\n",
        "                yield line.strip()  # Strip to remove trailing newlines or spaces\n",
        "    except FileNotFoundError:\n",
        "        print(f\"Error: The file '{file_path}' was not found.\")\n",
        "    except Exception as e:\n",
        "        print(f\"An error occurred: {e}\")\n",
        "\n",
        "# Assuming 'example.txt' is a file in the same directory\n",
        "for line in read_file_line_by_line('example.txt'):\n",
        "    print(line)"
      ],
      "metadata": {
        "colab": {
          "base_uri": "https://localhost:8080/"
        },
        "id": "cmGXUdEGbTzU",
        "outputId": "fb5b49c5-d269-497d-a7aa-ba035d77fa6f"
      },
      "execution_count": 3,
      "outputs": [
        {
          "output_type": "stream",
          "name": "stdout",
          "text": [
            "Error: The file 'example.txt' was not found.\n"
          ]
        }
      ]
    },
    {
      "cell_type": "markdown",
      "source": [
        "Question 8.  Use a lambda function in Python to sort a list of tuples based on the second element of each tuple."
      ],
      "metadata": {
        "id": "W5J_TKP1fHEr"
      }
    },
    {
      "cell_type": "code",
      "source": [
        "tuples_list = [(1, 3), (4, 1), (2, 5), (3, 2)]\n",
        "\n",
        "# Sorting based on the second element using a lambda function\n",
        "sorted_tuples = sorted(tuples_list, key=lambda x: x[1])\n",
        "\n",
        "print(\"Original list:\", tuples_list)\n",
        "print(\"Sorted list:\", sorted_tuples)"
      ],
      "metadata": {
        "colab": {
          "base_uri": "https://localhost:8080/"
        },
        "id": "RY2ThtcvfOME",
        "outputId": "1936a75c-3234-4ad8-a077-f9524d8a0702"
      },
      "execution_count": 5,
      "outputs": [
        {
          "output_type": "stream",
          "name": "stdout",
          "text": [
            "Original list: [(1, 3), (4, 1), (2, 5), (3, 2)]\n",
            "Sorted list: [(4, 1), (3, 2), (1, 3), (2, 5)]\n"
          ]
        }
      ]
    },
    {
      "cell_type": "markdown",
      "source": [
        "Question 9.  Write a Python program that uses `map()` to convert a list of temperatures from Celsius to Fahrenheit.\n",
        "\n",
        "Ans:"
      ],
      "metadata": {
        "id": "3UK3nPhKc751"
      }
    },
    {
      "cell_type": "code",
      "source": [
        "def celsius_to_fahrenheit(celsius):\n",
        "    return (celsius * 9/5) + 32\n",
        "\n",
        "# List of temperatures in Celsius\n",
        "celsius_temperatures = [0, 10, 20, 30, 40, 100]\n",
        "\n",
        "# Convert to Fahrenheit using map()\n",
        "fahrenheit_temperatures = list(map(celsius_to_fahrenheit, celsius_temperatures))\n",
        "\n",
        "print(\"Celsius temperatures:\", celsius_temperatures)\n",
        "print(\"Fahrenheit temperatures:\", fahrenheit_temperatures)"
      ],
      "metadata": {
        "colab": {
          "base_uri": "https://localhost:8080/"
        },
        "id": "gH3j0L-bde2v",
        "outputId": "ee496444-ebbb-4e63-da7f-d4a17a29db5d"
      },
      "execution_count": 4,
      "outputs": [
        {
          "output_type": "stream",
          "name": "stdout",
          "text": [
            "Celsius temperatures: [0, 10, 20, 30, 40, 100]\n",
            "Fahrenheit temperatures: [32.0, 50.0, 68.0, 86.0, 104.0, 212.0]\n"
          ]
        }
      ]
    },
    {
      "cell_type": "markdown",
      "source": [
        " Question 10 .  Create a Python program that uses `filter()` to remove all the vowels from a given string."
      ],
      "metadata": {
        "id": "bBVL5Ckjf9Ex"
      }
    },
    {
      "cell_type": "code",
      "source": [
        "def is_not_vowel(char):\n",
        "    vowels = \"aeiouAEIOU\"\n",
        "    return char not in vowels\n",
        "\n",
        "# Input string\n",
        "input_string = \"Hello, World! Python is fun.\"\n",
        "\n",
        "# Remove vowels using filter()\n",
        "result = ''.join(filter(is_not_vowel, input_string))\n",
        "\n",
        "print(\"Original string:\", input_string)\n",
        "print(\"String without vowels:\", result)"
      ],
      "metadata": {
        "colab": {
          "base_uri": "https://localhost:8080/"
        },
        "id": "qgow4jtKgFrq",
        "outputId": "6a6bb78a-fb1d-4a6f-900d-4274617b0f67"
      },
      "execution_count": 6,
      "outputs": [
        {
          "output_type": "stream",
          "name": "stdout",
          "text": [
            "Original string: Hello, World! Python is fun.\n",
            "String without vowels: Hll, Wrld! Pythn s fn.\n"
          ]
        }
      ]
    }
  ]
}